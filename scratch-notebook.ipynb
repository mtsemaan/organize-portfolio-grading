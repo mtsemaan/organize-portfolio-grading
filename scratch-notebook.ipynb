{
 "cells": [
  {
   "cell_type": "code",
   "execution_count": 5,
   "metadata": {},
   "outputs": [],
   "source": [
    "from os import scandir, getcwd, mkdir\n",
    "from shutil import copy"
   ]
  },
  {
   "cell_type": "code",
   "execution_count": 25,
   "metadata": {},
   "outputs": [
    {
     "name": "stdout",
     "output_type": "stream",
     "text": [
      "Deep Dive\n",
      "\n",
      "Perfect Week\n",
      "\n",
      "Perfect Week\n",
      "\n",
      "Deep Dive\n",
      "\n"
     ]
    }
   ],
   "source": [
    "# Get the full path to the current working directory.\n",
    "cwd = getcwd()\n",
    "\n",
    "# Create a 'To Grade' folder in this directory unless it already exists.\n",
    "grading_dir = cwd + \"/To Grade\"\n",
    "try:\n",
    "    mkdir(grading_dir)\n",
    "except FileExistsError:\n",
    "    pass\n",
    "\n",
    "# Scan the root directory for subdirectories that start with \"SCI\"\n",
    "with scandir(cwd) as root:\n",
    "    for item in root:\n",
    "        if item.is_dir() and item.name[:3] == \"SCI\":\n",
    "#         \n",
    "            ## Now scan through files in those subdirectories (student folders)\n",
    "            with scandir(item.path) as student_folder:\n",
    "                for file in student_folder:\n",
    "                    if file.is_file():\n",
    "            ##\n",
    "                        # Extract assignment name from file name.\n",
    "                        assignment_name = file.name.split(\"_\")[-1].split(\".\")[0]\n",
    "                        assignment_dir = grading_dir + \"/\" + assignment_name\n",
    "\n",
    "                        # Make a folder for grading that assignment.\n",
    "                        try:\n",
    "                            mkdir(assignment_dir)\n",
    "                        except FileExistsError:\n",
    "                            pass\n",
    "\n",
    "                        # Copy assignment over.\n",
    "                        copy(file.path, assignment_dir)\n",
    "\n",
    "                        print(\"\")\n",
    "\n",
    "            "
   ]
  },
  {
   "cell_type": "code",
   "execution_count": null,
   "metadata": {},
   "outputs": [],
   "source": []
  }
 ],
 "metadata": {
  "kernelspec": {
   "display_name": "base",
   "language": "python",
   "name": "python3"
  },
  "language_info": {
   "codemirror_mode": {
    "name": "ipython",
    "version": 3
   },
   "file_extension": ".py",
   "mimetype": "text/x-python",
   "name": "python",
   "nbconvert_exporter": "python",
   "pygments_lexer": "ipython3",
   "version": "3.10.13"
  }
 },
 "nbformat": 4,
 "nbformat_minor": 2
}
